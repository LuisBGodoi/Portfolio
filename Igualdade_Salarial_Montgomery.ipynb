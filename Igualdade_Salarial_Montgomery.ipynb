{
  "nbformat": 4,
  "nbformat_minor": 0,
  "metadata": {
    "colab": {
      "name": "Igualdade Salarial Montgomery",
      "provenance": [],
      "collapsed_sections": [],
      "toc_visible": true,
      "authorship_tag": "ABX9TyNcK5qIC4+7hk0LiXhqJeKG",
      "include_colab_link": true
    },
    "kernelspec": {
      "name": "python3",
      "display_name": "Python 3"
    },
    "language_info": {
      "name": "python"
    }
  },
  "cells": [
    {
      "cell_type": "markdown",
      "metadata": {
        "id": "view-in-github",
        "colab_type": "text"
      },
      "source": [
        "<a href=\"https://colab.research.google.com/github/LuisBGodoi/Portfolio/blob/main/Igualdade_Salarial_Montgomery.ipynb\" target=\"_parent\"><img src=\"https://colab.research.google.com/assets/colab-badge.svg\" alt=\"Open In Colab\"/></a>"
      ]
    },
    {
      "cell_type": "markdown",
      "source": [
        "## 📖 Background\n",
        "\n",
        "[Montogmery](https://pt.wikipedia.org/wiki/Montgomery_(Alabama)) é a capital do estado do Alabama, localizado no Sul dos Estados Unidos, próximo a costa leste. Conhecida como capital dos sonhos a cidade tem aproximadamente 200.000 habitantes (dados de 2020). É uma cidade com muitos marcos históricos importantes da Guerra Civil Americana e a grande maioria dos locais da trilha dos direitos civis do país"
      ],
      "metadata": {
        "id": "fceb8h8rR45q"
      }
    },
    {
      "cell_type": "markdown",
      "source": [
        "![images.png](data:image/png;base64,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)"
      ],
      "metadata": {
        "id": "WvNLXswvKk9f"
      }
    },
    {
      "cell_type": "markdown",
      "source": [
        "Vamos realizar uma estudo para verificar se existe uma diferença entre os salários entre homens e mulheres. Em uma cidade conhecida como o Berço dos Direitos Civis e que foi uma das primeiras a lutar contra a desigualdade racial, acredito que a igualdade de genêro também deve ser uma valor importante."
      ],
      "metadata": {
        "id": "kksntAHlNv_W"
      }
    },
    {
      "cell_type": "markdown",
      "source": [
        "De acordo com o relatório [\"The Simple Truth About the Gender Pay Gap\"](https://www.aauw.org/resources/research/simple-truth/) estima-se que a cada um dolar pago para um homem a mulher ganha apenas 83 cents.Esse tem sido um tema cada vez mais presente no cotidiano das grande empresas, que tem como objetivo adquirir sustentabilidade nos fatores ESG, esses fatores são importantes porque está diretamente ligado com a satisfação dos empregados, deste modo se preocupando com esses fatores haverá uma retenção maior de funcionários, economizando dinheiro e tempo com treinamento e retendo talentos. Outro fator importante para que esse assunto seja tão importante é que segundo as leis norte americanas [(Equal Pay Act of 1963)](https://www.eeoc.gov/statutes/equal-pay-act-1963) homens e mulheres devem ser igualmente remunerados se desempenharem trabalhos iguais, porém, para um trabalho ser reconhecido como igual ao de outra pessoa as habilidades envolvidas devem ser as mesmas, assim como esforço, responsabilidade, condições de trabalho e localizado no mesmo estabelecimento."
      ],
      "metadata": {
        "id": "MoMuuuv-Ol5O"
      }
    },
    {
      "cell_type": "markdown",
      "source": [
        "##💾 The data"
      ],
      "metadata": {
        "id": "90C7D3nLSN9R"
      }
    },
    {
      "cell_type": "code",
      "execution_count": 2,
      "metadata": {
        "id": "cenNLwh419Hy"
      },
      "outputs": [],
      "source": [
        "#Importando bibliotecas para o projeto\n",
        "import pandas as pd\n",
        "import numpy as np\n",
        "import matplotlib.pyplot as plt\n",
        "import seaborn as sns\n"
      ]
    },
    {
      "cell_type": "markdown",
      "source": [
        "Vamos importar um arquivo do governo dos EUA obtido através do [link](https://catalog.data.gov/dataset/employee-salaries-2019), relativo aos salários das pessoas do condado de Montgomery situado dentro do estado de Maryland nos EUA."
      ],
      "metadata": {
        "id": "vrbYQSbZ2Wvm"
      }
    },
    {
      "cell_type": "code",
      "source": [
        "df = pd.read_csv('/content/Employee_Salaries_-_2019.csv')\n",
        "print(\"O formato do DataFrame:\", df.shape)"
      ],
      "metadata": {
        "colab": {
          "base_uri": "https://localhost:8080/"
        },
        "id": "91bMpQhf2Mut",
        "outputId": "2821ca72-b7a7-4769-c4f3-dd7dde539f11"
      },
      "execution_count": 3,
      "outputs": [
        {
          "output_type": "stream",
          "name": "stdout",
          "text": [
            "O formato do DataFrame: (10105, 8)\n"
          ]
        }
      ]
    },
    {
      "cell_type": "markdown",
      "source": [
        "Dicionário de Variáveis\n",
        "\n",
        "Esse arquivo possui 8 colunas, sendo elas:\n",
        "\n",
        "\n",
        "*   Department: Sigla do departamento do colaborador\n",
        "  *   37 departamentos\n",
        "\n",
        "*   Department Name: Nome do departamento\n",
        "  *   37 nomes de departamentos\n",
        "\n",
        "*   Divison: Divisao do colaborador\n",
        "  *   705 divisões\n",
        "  \n",
        "*   Gender: Gênero\n",
        "  *   F - feminino\n",
        "  *   M - Masculino\n",
        "\n",
        "*   Base Salary: Salário Anual em USD\n",
        "*   2019 Overtime Pay: Pagamento realizado sobre horas extras em 2019\n",
        "*   2019 Longevity Pay: Incentivo a longo prazo pago em 2019\n",
        "*   Grade: Agrupamento realizado de acordo com o seu salário\n"
      ],
      "metadata": {
        "id": "BLnWRNr93ixh"
      }
    },
    {
      "cell_type": "code",
      "source": [
        "df.head()"
      ],
      "metadata": {
        "colab": {
          "base_uri": "https://localhost:8080/",
          "height": 206
        },
        "id": "X-6GF0N_3EAA",
        "outputId": "7844136b-fa3d-4018-e20b-591c12db8088"
      },
      "execution_count": 4,
      "outputs": [
        {
          "output_type": "execute_result",
          "data": {
            "text/plain": [
              "  Department              Department Name                   Division Gender  \\\n",
              "0        BOA  Board of Appeals Department  Board of Appeals Division      F   \n",
              "1        BOA  Board of Appeals Department  Board of Appeals Division      F   \n",
              "2        BOA  Board of Appeals Department         Executive Director      F   \n",
              "3        BOE           Board of Elections                   Director      F   \n",
              "4        BOE           Board of Elections   Polling Place Management      F   \n",
              "\n",
              "   Base Salary  2019 Overtime Pay  2019 Longevity Pay Grade  \n",
              "0     78902.00                0.0                 0.0    18  \n",
              "1     58481.91                0.0                 0.0    16  \n",
              "2    144751.00                0.0                 0.0    M3  \n",
              "3    183654.18                0.0                 0.0    M1  \n",
              "4     62488.00                0.0                 0.0    13  "
            ],
            "text/html": [
              "\n",
              "  <div id=\"df-fbf43fdf-3e77-41d1-97cd-b18a6d584cdc\">\n",
              "    <div class=\"colab-df-container\">\n",
              "      <div>\n",
              "<style scoped>\n",
              "    .dataframe tbody tr th:only-of-type {\n",
              "        vertical-align: middle;\n",
              "    }\n",
              "\n",
              "    .dataframe tbody tr th {\n",
              "        vertical-align: top;\n",
              "    }\n",
              "\n",
              "    .dataframe thead th {\n",
              "        text-align: right;\n",
              "    }\n",
              "</style>\n",
              "<table border=\"1\" class=\"dataframe\">\n",
              "  <thead>\n",
              "    <tr style=\"text-align: right;\">\n",
              "      <th></th>\n",
              "      <th>Department</th>\n",
              "      <th>Department Name</th>\n",
              "      <th>Division</th>\n",
              "      <th>Gender</th>\n",
              "      <th>Base Salary</th>\n",
              "      <th>2019 Overtime Pay</th>\n",
              "      <th>2019 Longevity Pay</th>\n",
              "      <th>Grade</th>\n",
              "    </tr>\n",
              "  </thead>\n",
              "  <tbody>\n",
              "    <tr>\n",
              "      <th>0</th>\n",
              "      <td>BOA</td>\n",
              "      <td>Board of Appeals Department</td>\n",
              "      <td>Board of Appeals Division</td>\n",
              "      <td>F</td>\n",
              "      <td>78902.00</td>\n",
              "      <td>0.0</td>\n",
              "      <td>0.0</td>\n",
              "      <td>18</td>\n",
              "    </tr>\n",
              "    <tr>\n",
              "      <th>1</th>\n",
              "      <td>BOA</td>\n",
              "      <td>Board of Appeals Department</td>\n",
              "      <td>Board of Appeals Division</td>\n",
              "      <td>F</td>\n",
              "      <td>58481.91</td>\n",
              "      <td>0.0</td>\n",
              "      <td>0.0</td>\n",
              "      <td>16</td>\n",
              "    </tr>\n",
              "    <tr>\n",
              "      <th>2</th>\n",
              "      <td>BOA</td>\n",
              "      <td>Board of Appeals Department</td>\n",
              "      <td>Executive Director</td>\n",
              "      <td>F</td>\n",
              "      <td>144751.00</td>\n",
              "      <td>0.0</td>\n",
              "      <td>0.0</td>\n",
              "      <td>M3</td>\n",
              "    </tr>\n",
              "    <tr>\n",
              "      <th>3</th>\n",
              "      <td>BOE</td>\n",
              "      <td>Board of Elections</td>\n",
              "      <td>Director</td>\n",
              "      <td>F</td>\n",
              "      <td>183654.18</td>\n",
              "      <td>0.0</td>\n",
              "      <td>0.0</td>\n",
              "      <td>M1</td>\n",
              "    </tr>\n",
              "    <tr>\n",
              "      <th>4</th>\n",
              "      <td>BOE</td>\n",
              "      <td>Board of Elections</td>\n",
              "      <td>Polling Place Management</td>\n",
              "      <td>F</td>\n",
              "      <td>62488.00</td>\n",
              "      <td>0.0</td>\n",
              "      <td>0.0</td>\n",
              "      <td>13</td>\n",
              "    </tr>\n",
              "  </tbody>\n",
              "</table>\n",
              "</div>\n",
              "      <button class=\"colab-df-convert\" onclick=\"convertToInteractive('df-fbf43fdf-3e77-41d1-97cd-b18a6d584cdc')\"\n",
              "              title=\"Convert this dataframe to an interactive table.\"\n",
              "              style=\"display:none;\">\n",
              "        \n",
              "  <svg xmlns=\"http://www.w3.org/2000/svg\" height=\"24px\"viewBox=\"0 0 24 24\"\n",
              "       width=\"24px\">\n",
              "    <path d=\"M0 0h24v24H0V0z\" fill=\"none\"/>\n",
              "    <path d=\"M18.56 5.44l.94 2.06.94-2.06 2.06-.94-2.06-.94-.94-2.06-.94 2.06-2.06.94zm-11 1L8.5 8.5l.94-2.06 2.06-.94-2.06-.94L8.5 2.5l-.94 2.06-2.06.94zm10 10l.94 2.06.94-2.06 2.06-.94-2.06-.94-.94-2.06-.94 2.06-2.06.94z\"/><path d=\"M17.41 7.96l-1.37-1.37c-.4-.4-.92-.59-1.43-.59-.52 0-1.04.2-1.43.59L10.3 9.45l-7.72 7.72c-.78.78-.78 2.05 0 2.83L4 21.41c.39.39.9.59 1.41.59.51 0 1.02-.2 1.41-.59l7.78-7.78 2.81-2.81c.8-.78.8-2.07 0-2.86zM5.41 20L4 18.59l7.72-7.72 1.47 1.35L5.41 20z\"/>\n",
              "  </svg>\n",
              "      </button>\n",
              "      \n",
              "  <style>\n",
              "    .colab-df-container {\n",
              "      display:flex;\n",
              "      flex-wrap:wrap;\n",
              "      gap: 12px;\n",
              "    }\n",
              "\n",
              "    .colab-df-convert {\n",
              "      background-color: #E8F0FE;\n",
              "      border: none;\n",
              "      border-radius: 50%;\n",
              "      cursor: pointer;\n",
              "      display: none;\n",
              "      fill: #1967D2;\n",
              "      height: 32px;\n",
              "      padding: 0 0 0 0;\n",
              "      width: 32px;\n",
              "    }\n",
              "\n",
              "    .colab-df-convert:hover {\n",
              "      background-color: #E2EBFA;\n",
              "      box-shadow: 0px 1px 2px rgba(60, 64, 67, 0.3), 0px 1px 3px 1px rgba(60, 64, 67, 0.15);\n",
              "      fill: #174EA6;\n",
              "    }\n",
              "\n",
              "    [theme=dark] .colab-df-convert {\n",
              "      background-color: #3B4455;\n",
              "      fill: #D2E3FC;\n",
              "    }\n",
              "\n",
              "    [theme=dark] .colab-df-convert:hover {\n",
              "      background-color: #434B5C;\n",
              "      box-shadow: 0px 1px 3px 1px rgba(0, 0, 0, 0.15);\n",
              "      filter: drop-shadow(0px 1px 2px rgba(0, 0, 0, 0.3));\n",
              "      fill: #FFFFFF;\n",
              "    }\n",
              "  </style>\n",
              "\n",
              "      <script>\n",
              "        const buttonEl =\n",
              "          document.querySelector('#df-fbf43fdf-3e77-41d1-97cd-b18a6d584cdc button.colab-df-convert');\n",
              "        buttonEl.style.display =\n",
              "          google.colab.kernel.accessAllowed ? 'block' : 'none';\n",
              "\n",
              "        async function convertToInteractive(key) {\n",
              "          const element = document.querySelector('#df-fbf43fdf-3e77-41d1-97cd-b18a6d584cdc');\n",
              "          const dataTable =\n",
              "            await google.colab.kernel.invokeFunction('convertToInteractive',\n",
              "                                                     [key], {});\n",
              "          if (!dataTable) return;\n",
              "\n",
              "          const docLinkHtml = 'Like what you see? Visit the ' +\n",
              "            '<a target=\"_blank\" href=https://colab.research.google.com/notebooks/data_table.ipynb>data table notebook</a>'\n",
              "            + ' to learn more about interactive tables.';\n",
              "          element.innerHTML = '';\n",
              "          dataTable['output_type'] = 'display_data';\n",
              "          await google.colab.output.renderOutput(dataTable, element);\n",
              "          const docLink = document.createElement('div');\n",
              "          docLink.innerHTML = docLinkHtml;\n",
              "          element.appendChild(docLink);\n",
              "        }\n",
              "      </script>\n",
              "    </div>\n",
              "  </div>\n",
              "  "
            ]
          },
          "metadata": {},
          "execution_count": 4
        }
      ]
    },
    {
      "cell_type": "code",
      "source": [
        "#verificação de valores nulos\n",
        "df.isnull().sum()"
      ],
      "metadata": {
        "colab": {
          "base_uri": "https://localhost:8080/"
        },
        "id": "2Fm1v9dZ59o3",
        "outputId": "98b97091-b542-42bd-ef43-b29d3f5c3dcd"
      },
      "execution_count": 5,
      "outputs": [
        {
          "output_type": "execute_result",
          "data": {
            "text/plain": [
              "Department            0\n",
              "Department Name       0\n",
              "Division              0\n",
              "Gender                0\n",
              "Base Salary           0\n",
              "2019 Overtime Pay     0\n",
              "2019 Longevity Pay    0\n",
              "Grade                 0\n",
              "dtype: int64"
            ]
          },
          "metadata": {},
          "execution_count": 5
        }
      ]
    },
    {
      "cell_type": "markdown",
      "source": [
        "## ⛏Análise \n",
        "\n",
        "Para conseguirmos comparar os salários, vamos juntar o salário Base, com o pagamento por hora extra e pagamento por longevidade. E chamaremos de TTDC"
      ],
      "metadata": {
        "id": "Sjb2LaMWSeQ2"
      }
    },
    {
      "cell_type": "code",
      "source": [
        "#criar a coluna de TTDC\n",
        "df[\"TTDC\"] = df['Base Salary']+df['2019 Overtime Pay']+df['2019 Longevity Pay']\n",
        "df.head()"
      ],
      "metadata": {
        "id": "gG5f4lxD6Kvr",
        "colab": {
          "base_uri": "https://localhost:8080/",
          "height": 206
        },
        "outputId": "3917250d-f7ba-4c74-b7e3-6a710f53d2f1"
      },
      "execution_count": 6,
      "outputs": [
        {
          "output_type": "execute_result",
          "data": {
            "text/plain": [
              "  Department              Department Name                   Division Gender  \\\n",
              "0        BOA  Board of Appeals Department  Board of Appeals Division      F   \n",
              "1        BOA  Board of Appeals Department  Board of Appeals Division      F   \n",
              "2        BOA  Board of Appeals Department         Executive Director      F   \n",
              "3        BOE           Board of Elections                   Director      F   \n",
              "4        BOE           Board of Elections   Polling Place Management      F   \n",
              "\n",
              "   Base Salary  2019 Overtime Pay  2019 Longevity Pay Grade       TTDC  \n",
              "0     78902.00                0.0                 0.0    18   78902.00  \n",
              "1     58481.91                0.0                 0.0    16   58481.91  \n",
              "2    144751.00                0.0                 0.0    M3  144751.00  \n",
              "3    183654.18                0.0                 0.0    M1  183654.18  \n",
              "4     62488.00                0.0                 0.0    13   62488.00  "
            ],
            "text/html": [
              "\n",
              "  <div id=\"df-57bdb20b-14ac-4417-ab13-8813be87a8d0\">\n",
              "    <div class=\"colab-df-container\">\n",
              "      <div>\n",
              "<style scoped>\n",
              "    .dataframe tbody tr th:only-of-type {\n",
              "        vertical-align: middle;\n",
              "    }\n",
              "\n",
              "    .dataframe tbody tr th {\n",
              "        vertical-align: top;\n",
              "    }\n",
              "\n",
              "    .dataframe thead th {\n",
              "        text-align: right;\n",
              "    }\n",
              "</style>\n",
              "<table border=\"1\" class=\"dataframe\">\n",
              "  <thead>\n",
              "    <tr style=\"text-align: right;\">\n",
              "      <th></th>\n",
              "      <th>Department</th>\n",
              "      <th>Department Name</th>\n",
              "      <th>Division</th>\n",
              "      <th>Gender</th>\n",
              "      <th>Base Salary</th>\n",
              "      <th>2019 Overtime Pay</th>\n",
              "      <th>2019 Longevity Pay</th>\n",
              "      <th>Grade</th>\n",
              "      <th>TTDC</th>\n",
              "    </tr>\n",
              "  </thead>\n",
              "  <tbody>\n",
              "    <tr>\n",
              "      <th>0</th>\n",
              "      <td>BOA</td>\n",
              "      <td>Board of Appeals Department</td>\n",
              "      <td>Board of Appeals Division</td>\n",
              "      <td>F</td>\n",
              "      <td>78902.00</td>\n",
              "      <td>0.0</td>\n",
              "      <td>0.0</td>\n",
              "      <td>18</td>\n",
              "      <td>78902.00</td>\n",
              "    </tr>\n",
              "    <tr>\n",
              "      <th>1</th>\n",
              "      <td>BOA</td>\n",
              "      <td>Board of Appeals Department</td>\n",
              "      <td>Board of Appeals Division</td>\n",
              "      <td>F</td>\n",
              "      <td>58481.91</td>\n",
              "      <td>0.0</td>\n",
              "      <td>0.0</td>\n",
              "      <td>16</td>\n",
              "      <td>58481.91</td>\n",
              "    </tr>\n",
              "    <tr>\n",
              "      <th>2</th>\n",
              "      <td>BOA</td>\n",
              "      <td>Board of Appeals Department</td>\n",
              "      <td>Executive Director</td>\n",
              "      <td>F</td>\n",
              "      <td>144751.00</td>\n",
              "      <td>0.0</td>\n",
              "      <td>0.0</td>\n",
              "      <td>M3</td>\n",
              "      <td>144751.00</td>\n",
              "    </tr>\n",
              "    <tr>\n",
              "      <th>3</th>\n",
              "      <td>BOE</td>\n",
              "      <td>Board of Elections</td>\n",
              "      <td>Director</td>\n",
              "      <td>F</td>\n",
              "      <td>183654.18</td>\n",
              "      <td>0.0</td>\n",
              "      <td>0.0</td>\n",
              "      <td>M1</td>\n",
              "      <td>183654.18</td>\n",
              "    </tr>\n",
              "    <tr>\n",
              "      <th>4</th>\n",
              "      <td>BOE</td>\n",
              "      <td>Board of Elections</td>\n",
              "      <td>Polling Place Management</td>\n",
              "      <td>F</td>\n",
              "      <td>62488.00</td>\n",
              "      <td>0.0</td>\n",
              "      <td>0.0</td>\n",
              "      <td>13</td>\n",
              "      <td>62488.00</td>\n",
              "    </tr>\n",
              "  </tbody>\n",
              "</table>\n",
              "</div>\n",
              "      <button class=\"colab-df-convert\" onclick=\"convertToInteractive('df-57bdb20b-14ac-4417-ab13-8813be87a8d0')\"\n",
              "              title=\"Convert this dataframe to an interactive table.\"\n",
              "              style=\"display:none;\">\n",
              "        \n",
              "  <svg xmlns=\"http://www.w3.org/2000/svg\" height=\"24px\"viewBox=\"0 0 24 24\"\n",
              "       width=\"24px\">\n",
              "    <path d=\"M0 0h24v24H0V0z\" fill=\"none\"/>\n",
              "    <path d=\"M18.56 5.44l.94 2.06.94-2.06 2.06-.94-2.06-.94-.94-2.06-.94 2.06-2.06.94zm-11 1L8.5 8.5l.94-2.06 2.06-.94-2.06-.94L8.5 2.5l-.94 2.06-2.06.94zm10 10l.94 2.06.94-2.06 2.06-.94-2.06-.94-.94-2.06-.94 2.06-2.06.94z\"/><path d=\"M17.41 7.96l-1.37-1.37c-.4-.4-.92-.59-1.43-.59-.52 0-1.04.2-1.43.59L10.3 9.45l-7.72 7.72c-.78.78-.78 2.05 0 2.83L4 21.41c.39.39.9.59 1.41.59.51 0 1.02-.2 1.41-.59l7.78-7.78 2.81-2.81c.8-.78.8-2.07 0-2.86zM5.41 20L4 18.59l7.72-7.72 1.47 1.35L5.41 20z\"/>\n",
              "  </svg>\n",
              "      </button>\n",
              "      \n",
              "  <style>\n",
              "    .colab-df-container {\n",
              "      display:flex;\n",
              "      flex-wrap:wrap;\n",
              "      gap: 12px;\n",
              "    }\n",
              "\n",
              "    .colab-df-convert {\n",
              "      background-color: #E8F0FE;\n",
              "      border: none;\n",
              "      border-radius: 50%;\n",
              "      cursor: pointer;\n",
              "      display: none;\n",
              "      fill: #1967D2;\n",
              "      height: 32px;\n",
              "      padding: 0 0 0 0;\n",
              "      width: 32px;\n",
              "    }\n",
              "\n",
              "    .colab-df-convert:hover {\n",
              "      background-color: #E2EBFA;\n",
              "      box-shadow: 0px 1px 2px rgba(60, 64, 67, 0.3), 0px 1px 3px 1px rgba(60, 64, 67, 0.15);\n",
              "      fill: #174EA6;\n",
              "    }\n",
              "\n",
              "    [theme=dark] .colab-df-convert {\n",
              "      background-color: #3B4455;\n",
              "      fill: #D2E3FC;\n",
              "    }\n",
              "\n",
              "    [theme=dark] .colab-df-convert:hover {\n",
              "      background-color: #434B5C;\n",
              "      box-shadow: 0px 1px 3px 1px rgba(0, 0, 0, 0.15);\n",
              "      filter: drop-shadow(0px 1px 2px rgba(0, 0, 0, 0.3));\n",
              "      fill: #FFFFFF;\n",
              "    }\n",
              "  </style>\n",
              "\n",
              "      <script>\n",
              "        const buttonEl =\n",
              "          document.querySelector('#df-57bdb20b-14ac-4417-ab13-8813be87a8d0 button.colab-df-convert');\n",
              "        buttonEl.style.display =\n",
              "          google.colab.kernel.accessAllowed ? 'block' : 'none';\n",
              "\n",
              "        async function convertToInteractive(key) {\n",
              "          const element = document.querySelector('#df-57bdb20b-14ac-4417-ab13-8813be87a8d0');\n",
              "          const dataTable =\n",
              "            await google.colab.kernel.invokeFunction('convertToInteractive',\n",
              "                                                     [key], {});\n",
              "          if (!dataTable) return;\n",
              "\n",
              "          const docLinkHtml = 'Like what you see? Visit the ' +\n",
              "            '<a target=\"_blank\" href=https://colab.research.google.com/notebooks/data_table.ipynb>data table notebook</a>'\n",
              "            + ' to learn more about interactive tables.';\n",
              "          element.innerHTML = '';\n",
              "          dataTable['output_type'] = 'display_data';\n",
              "          await google.colab.output.renderOutput(dataTable, element);\n",
              "          const docLink = document.createElement('div');\n",
              "          docLink.innerHTML = docLinkHtml;\n",
              "          element.appendChild(docLink);\n",
              "        }\n",
              "      </script>\n",
              "    </div>\n",
              "  </div>\n",
              "  "
            ]
          },
          "metadata": {},
          "execution_count": 6
        }
      ]
    },
    {
      "cell_type": "markdown",
      "source": [
        "Os grade são siglas que significam posições na mesma empresa, ou cargo semelhante, assim vou plotar a diferença percentual entre homens e mulheres no mesmo grade, assim podemos observar quem está ganhando mais. Valores negativos significa que os homens estão ganhando mais e positivo que as mulheres estão ganhando mais."
      ],
      "metadata": {
        "id": "IFQTahIiK-T9"
      }
    },
    {
      "cell_type": "code",
      "source": [
        "table_grade = pd.pivot_table(df,values='TTDC',index='Grade',columns='Gender',aggfunc=np.mean)\n",
        "table_grade['Delta(%)'] = ((table_grade['F'] - table_grade['M'])/table_grade['M'])*100\n",
        "table_grade['Delta(%)'].plot.bar(figsize=(16,8))"
      ],
      "metadata": {
        "colab": {
          "base_uri": "https://localhost:8080/",
          "height": 528
        },
        "id": "jGH4hjsaRxIS",
        "outputId": "5453a991-8fd0-4afc-d0c2-4a5c20cc3fc2"
      },
      "execution_count": 7,
      "outputs": [
        {
          "output_type": "execute_result",
          "data": {
            "text/plain": [
              "<matplotlib.axes._subplots.AxesSubplot at 0x7f01ffe44410>"
            ]
          },
          "metadata": {},
          "execution_count": 7
        },
        {
          "output_type": "display_data",
          "data": {
            "text/plain": [
              "<Figure size 1152x576 with 1 Axes>"
            ],
            "image/png": "[encoded data removed]"
          },
          "metadata": {
            "needs_background": "light"
          }
        }
      ]
    },
    {
      "cell_type": "markdown",
      "source": [
        "Visualmente é possivel identificar que na grande maioria dos casos os homens tem um TTDC médio maior que o das mulheres. \n",
        "\n",
        "Porém essa diferença pode ser devido a diferença de departamentos, afinal alguns departamentos tendem a ganhar mais que outros."
      ],
      "metadata": {
        "id": "8XTlRbKIUYKb"
      }
    },
    {
      "cell_type": "markdown",
      "source": [
        "Para isso fiz a mesma comparação que fiz para grade só que agora para departamentos, para ver se conseguimos perceber um padrão diferente."
      ],
      "metadata": {
        "id": "7tDAef-xWezi"
      }
    },
    {
      "cell_type": "code",
      "source": [
        "#criar uma tabela dinamica\n",
        "table_departmento = pd.pivot_table(df,values='TTDC',index='Department',columns='Gender',aggfunc=np.mean)\n",
        "\n",
        "table_departmento['Delta(%)'] = ((table_departmento['F'] - table_departmento['M'])/table_departmento['M'])*100\n",
        "table_departmento['Delta(%)'].plot.bar(figsize=(16,8))\n",
        "plt.xticks(rotation=90)\n",
        "plt.show()"
      ],
      "metadata": {
        "colab": {
          "base_uri": "https://localhost:8080/",
          "height": 510
        },
        "id": "Lcwzdv06Mzqw",
        "outputId": "8ab1b46b-9ec3-43be-a3c3-491fb2598e77"
      },
      "execution_count": 8,
      "outputs": [
        {
          "output_type": "display_data",
          "data": {
            "text/plain": [
              "<Figure size 1152x576 with 1 Axes>"
            ],
            "image/png": "[encoded data removed]"
          },
          "metadata": {
            "needs_background": "light"
          }
        }
      ]
    },
    {
      "cell_type": "markdown",
      "source": [
        "Podemos observar através desse gráfico que a diferença entre homens e mulheres na mesma divisão é muito maior na maioria dos Departamentos"
      ],
      "metadata": {
        "id": "zyMTJu9ZNoNg"
      }
    },
    {
      "cell_type": "markdown",
      "source": [
        "Outra análise importante de se fazer é se as mulheres estão em minoria em cargos de alta responsabilidade, que adotaremos nesse caso como cargos de alta remuneração, para isso vamos fazer um contagem de homens e mulheres no diferentes grades. E iremos criar uma tabela com a média salarial de homens e mulheres por grade, para assim podermos ver quais grades tem os maiores salários e se neles há uma predominância masculina, ou se é bem distribuida."
      ],
      "metadata": {
        "id": "1z2CJqM_N78Y"
      }
    },
    {
      "cell_type": "code",
      "source": [
        "#Contando quantidade de homens e mulheres por grade\n",
        "contagem_grade = pd.pivot_table(df,values='TTDC',index='Grade',columns='Gender',aggfunc='count')\n",
        "contagem_grade['Delta'] = (contagem_grade['F']/(contagem_grade['F']+contagem_grade['M']))*100\n",
        "contagem_grade['Delta'].plot.bar(figsize=(16,8))"
      ],
      "metadata": {
        "colab": {
          "base_uri": "https://localhost:8080/",
          "height": 528
        },
        "id": "AcrdxcXLNni0",
        "outputId": "7e5c4ece-e828-46c8-8c1d-2b0f38657b43"
      },
      "execution_count": 9,
      "outputs": [
        {
          "output_type": "execute_result",
          "data": {
            "text/plain": [
              "<matplotlib.axes._subplots.AxesSubplot at 0x7f01ff5ebf50>"
            ]
          },
          "metadata": {},
          "execution_count": 9
        },
        {
          "output_type": "display_data",
          "data": {
            "text/plain": [
              "<Figure size 1152x576 with 1 Axes>"
            ],
            "image/png": "[encoded data removed]"
          },
          "metadata": {
            "needs_background": "light"
          }
        }
      ]
    },
    {
      "cell_type": "code",
      "source": [
        "table_grade = pd.pivot_table(df,values='TTDC',index='Grade',columns='Gender',aggfunc=np.mean)\n",
        "\n",
        "table_grade.sort_values(by='M').head(20)"
      ],
      "metadata": {
        "colab": {
          "base_uri": "https://localhost:8080/",
          "height": 707
        },
        "id": "i6P6wGrVGnWN",
        "outputId": "12966f12-064e-4310-81c1-8015b95775ff"
      },
      "execution_count": 16,
      "outputs": [
        {
          "output_type": "execute_result",
          "data": {
            "text/plain": [
              "Gender             F             M\n",
              "Grade                             \n",
              "5       20902.055000  32080.882143\n",
              "7                NaN  36242.150000\n",
              "F3P     40170.000000  38812.000000\n",
              "10      24118.342330  39155.308514\n",
              "8       30890.079394  39304.752308\n",
              "12      31745.076102  44823.694539\n",
              "11      44535.729231  48468.770968\n",
              "P4P     45746.702500  48624.360000\n",
              "9       55150.230000  49719.341053\n",
              "S6      53252.780000  51016.220000\n",
              "F1      49670.170909  51144.123529\n",
              "G1      49868.000000  52576.747143\n",
              "13      49968.508883  53418.138873\n",
              "P1      52976.812222  53790.700667\n",
              "C3      53660.206923  53814.709302\n",
              "G2      52899.177500  55962.495385\n",
              "P2      59118.327391  60680.067027\n",
              "14      56236.130484  61807.173618\n",
              "S5      51389.465000  63037.820000\n",
              "G3      62699.335000  63079.451333"
            ],
            "text/html": [
              "\n",
              "  <div id=\"df-b90495ed-f077-4446-99c0-95952579e5af\">\n",
              "    <div class=\"colab-df-container\">\n",
              "      <div>\n",
              "<style scoped>\n",
              "    .dataframe tbody tr th:only-of-type {\n",
              "        vertical-align: middle;\n",
              "    }\n",
              "\n",
              "    .dataframe tbody tr th {\n",
              "        vertical-align: top;\n",
              "    }\n",
              "\n",
              "    .dataframe thead th {\n",
              "        text-align: right;\n",
              "    }\n",
              "</style>\n",
              "<table border=\"1\" class=\"dataframe\">\n",
              "  <thead>\n",
              "    <tr style=\"text-align: right;\">\n",
              "      <th>Gender</th>\n",
              "      <th>F</th>\n",
              "      <th>M</th>\n",
              "    </tr>\n",
              "    <tr>\n",
              "      <th>Grade</th>\n",
              "      <th></th>\n",
              "      <th></th>\n",
              "    </tr>\n",
              "  </thead>\n",
              "  <tbody>\n",
              "    <tr>\n",
              "      <th>5</th>\n",
              "      <td>20902.055000</td>\n",
              "      <td>32080.882143</td>\n",
              "    </tr>\n",
              "    <tr>\n",
              "      <th>7</th>\n",
              "      <td>NaN</td>\n",
              "      <td>36242.150000</td>\n",
              "    </tr>\n",
              "    <tr>\n",
              "      <th>F3P</th>\n",
              "      <td>40170.000000</td>\n",
              "      <td>38812.000000</td>\n",
              "    </tr>\n",
              "    <tr>\n",
              "      <th>10</th>\n",
              "      <td>24118.342330</td>\n",
              "      <td>39155.308514</td>\n",
              "    </tr>\n",
              "    <tr>\n",
              "      <th>8</th>\n",
              "      <td>30890.079394</td>\n",
              "      <td>39304.752308</td>\n",
              "    </tr>\n",
              "    <tr>\n",
              "      <th>12</th>\n",
              "      <td>31745.076102</td>\n",
              "      <td>44823.694539</td>\n",
              "    </tr>\n",
              "    <tr>\n",
              "      <th>11</th>\n",
              "      <td>44535.729231</td>\n",
              "      <td>48468.770968</td>\n",
              "    </tr>\n",
              "    <tr>\n",
              "      <th>P4P</th>\n",
              "      <td>45746.702500</td>\n",
              "      <td>48624.360000</td>\n",
              "    </tr>\n",
              "    <tr>\n",
              "      <th>9</th>\n",
              "      <td>55150.230000</td>\n",
              "      <td>49719.341053</td>\n",
              "    </tr>\n",
              "    <tr>\n",
              "      <th>S6</th>\n",
              "      <td>53252.780000</td>\n",
              "      <td>51016.220000</td>\n",
              "    </tr>\n",
              "    <tr>\n",
              "      <th>F1</th>\n",
              "      <td>49670.170909</td>\n",
              "      <td>51144.123529</td>\n",
              "    </tr>\n",
              "    <tr>\n",
              "      <th>G1</th>\n",
              "      <td>49868.000000</td>\n",
              "      <td>52576.747143</td>\n",
              "    </tr>\n",
              "    <tr>\n",
              "      <th>13</th>\n",
              "      <td>49968.508883</td>\n",
              "      <td>53418.138873</td>\n",
              "    </tr>\n",
              "    <tr>\n",
              "      <th>P1</th>\n",
              "      <td>52976.812222</td>\n",
              "      <td>53790.700667</td>\n",
              "    </tr>\n",
              "    <tr>\n",
              "      <th>C3</th>\n",
              "      <td>53660.206923</td>\n",
              "      <td>53814.709302</td>\n",
              "    </tr>\n",
              "    <tr>\n",
              "      <th>G2</th>\n",
              "      <td>52899.177500</td>\n",
              "      <td>55962.495385</td>\n",
              "    </tr>\n",
              "    <tr>\n",
              "      <th>P2</th>\n",
              "      <td>59118.327391</td>\n",
              "      <td>60680.067027</td>\n",
              "    </tr>\n",
              "    <tr>\n",
              "      <th>14</th>\n",
              "      <td>56236.130484</td>\n",
              "      <td>61807.173618</td>\n",
              "    </tr>\n",
              "    <tr>\n",
              "      <th>S5</th>\n",
              "      <td>51389.465000</td>\n",
              "      <td>63037.820000</td>\n",
              "    </tr>\n",
              "    <tr>\n",
              "      <th>G3</th>\n",
              "      <td>62699.335000</td>\n",
              "      <td>63079.451333</td>\n",
              "    </tr>\n",
              "  </tbody>\n",
              "</table>\n",
              "</div>\n",
              "      <button class=\"colab-df-convert\" onclick=\"convertToInteractive('df-b90495ed-f077-4446-99c0-95952579e5af')\"\n",
              "              title=\"Convert this dataframe to an interactive table.\"\n",
              "              style=\"display:none;\">\n",
              "        \n",
              "  <svg xmlns=\"http://www.w3.org/2000/svg\" height=\"24px\"viewBox=\"0 0 24 24\"\n",
              "       width=\"24px\">\n",
              "    <path d=\"M0 0h24v24H0V0z\" fill=\"none\"/>\n",
              "    <path d=\"M18.56 5.44l.94 2.06.94-2.06 2.06-.94-2.06-.94-.94-2.06-.94 2.06-2.06.94zm-11 1L8.5 8.5l.94-2.06 2.06-.94-2.06-.94L8.5 2.5l-.94 2.06-2.06.94zm10 10l.94 2.06.94-2.06 2.06-.94-2.06-.94-.94-2.06-.94 2.06-2.06.94z\"/><path d=\"M17.41 7.96l-1.37-1.37c-.4-.4-.92-.59-1.43-.59-.52 0-1.04.2-1.43.59L10.3 9.45l-7.72 7.72c-.78.78-.78 2.05 0 2.83L4 21.41c.39.39.9.59 1.41.59.51 0 1.02-.2 1.41-.59l7.78-7.78 2.81-2.81c.8-.78.8-2.07 0-2.86zM5.41 20L4 18.59l7.72-7.72 1.47 1.35L5.41 20z\"/>\n",
              "  </svg>\n",
              "      </button>\n",
              "      \n",
              "  <style>\n",
              "    .colab-df-container {\n",
              "      display:flex;\n",
              "      flex-wrap:wrap;\n",
              "      gap: 12px;\n",
              "    }\n",
              "\n",
              "    .colab-df-convert {\n",
              "      background-color: #E8F0FE;\n",
              "      border: none;\n",
              "      border-radius: 50%;\n",
              "      cursor: pointer;\n",
              "      display: none;\n",
              "      fill: #1967D2;\n",
              "      height: 32px;\n",
              "      padding: 0 0 0 0;\n",
              "      width: 32px;\n",
              "    }\n",
              "\n",
              "    .colab-df-convert:hover {\n",
              "      background-color: #E2EBFA;\n",
              "      box-shadow: 0px 1px 2px rgba(60, 64, 67, 0.3), 0px 1px 3px 1px rgba(60, 64, 67, 0.15);\n",
              "      fill: #174EA6;\n",
              "    }\n",
              "\n",
              "    [theme=dark] .colab-df-convert {\n",
              "      background-color: #3B4455;\n",
              "      fill: #D2E3FC;\n",
              "    }\n",
              "\n",
              "    [theme=dark] .colab-df-convert:hover {\n",
              "      background-color: #434B5C;\n",
              "      box-shadow: 0px 1px 3px 1px rgba(0, 0, 0, 0.15);\n",
              "      filter: drop-shadow(0px 1px 2px rgba(0, 0, 0, 0.3));\n",
              "      fill: #FFFFFF;\n",
              "    }\n",
              "  </style>\n",
              "\n",
              "      <script>\n",
              "        const buttonEl =\n",
              "          document.querySelector('#df-b90495ed-f077-4446-99c0-95952579e5af button.colab-df-convert');\n",
              "        buttonEl.style.display =\n",
              "          google.colab.kernel.accessAllowed ? 'block' : 'none';\n",
              "\n",
              "        async function convertToInteractive(key) {\n",
              "          const element = document.querySelector('#df-b90495ed-f077-4446-99c0-95952579e5af');\n",
              "          const dataTable =\n",
              "            await google.colab.kernel.invokeFunction('convertToInteractive',\n",
              "                                                     [key], {});\n",
              "          if (!dataTable) return;\n",
              "\n",
              "          const docLinkHtml = 'Like what you see? Visit the ' +\n",
              "            '<a target=\"_blank\" href=https://colab.research.google.com/notebooks/data_table.ipynb>data table notebook</a>'\n",
              "            + ' to learn more about interactive tables.';\n",
              "          element.innerHTML = '';\n",
              "          dataTable['output_type'] = 'display_data';\n",
              "          await google.colab.output.renderOutput(dataTable, element);\n",
              "          const docLink = document.createElement('div');\n",
              "          docLink.innerHTML = docLinkHtml;\n",
              "          element.appendChild(docLink);\n",
              "        }\n",
              "      </script>\n",
              "    </div>\n",
              "  </div>\n",
              "  "
            ]
          },
          "metadata": {},
          "execution_count": 16
        }
      ]
    },
    {
      "cell_type": "markdown",
      "source": [
        "## 💡Conclusão\n",
        "Através da observação nos gráficos de diferenã salarial média entre homens e mulheres percebemos que as mulheres estão ganhando menos que os homens, verificamos também com a tabela de porcentagem de mulheres dentro do grade e a tabela de média salarial por grade.\n",
        "Outra análise que realizamos e é importante é a de menor porcentagem de mulheres em cargos de alta liderença, admitimos cargos de alta liderença como cargos de alta remunenração devido a falta de informações extras para classificar isso, nessa análise apesar de os dois cargos com maior média salárial terem poucas mulheres, os demais cargos recompensam isso, assim sendo, não podemos admitir que existe qualquer relação de que as mulheres do estudo estão deixando de pegar cargos altos devido ao sexo.\n",
        "Deste modo, segundo a análise realizada o governo deveria revisar o salário das mulheres, vendo se elas devem receber um aumento, para com isso, aumentar a sua competitividade e evitar turnover e possiveis processos, visto que a lei obrigado o salário a ser igual."
      ],
      "metadata": {
        "id": "VGt-b4c0I-Kb"
      }
    }
  ]
}